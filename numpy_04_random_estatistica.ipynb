{
 "cells": [
  {
   "cell_type": "markdown",
   "metadata": {
    "id": "XI0Q33rjqx4K"
   },
   "source": [
    "# Guia de Introdução ao NumPy\n",
    "\n",
    "NumPy, que significa Numerical Python, é uma biblioteca fundamental para a computação científica em Python. Ela fornece suporte para arrays e matrizes, além de funções matemáticas para operações com esses objetos. É, também, a base da biblioteca Pandas.\n",
    "\n"
   ]
  },
  {
   "cell_type": "markdown",
   "metadata": {
    "id": "ALnMiKvUqx4N"
   },
   "source": [
    "## Números aleatórios e estatística básica  "
   ]
  },
  {
   "cell_type": "code",
   "execution_count": 1,
   "metadata": {
    "id": "k6SV2XzBq4Aw"
   },
   "outputs": [
    {
     "name": "stdout",
     "output_type": "stream",
     "text": [
      "Generator(PCG64)\n"
     ]
    }
   ],
   "source": [
    "import numpy as np\n",
    "\n",
    "# Crie um gerador de números aleatórios\n",
    "rng = np.random.default_rng()\n",
    "print(rng)"
   ]
  },
  {
   "cell_type": "code",
   "execution_count": 2,
   "metadata": {},
   "outputs": [
    {
     "name": "stdout",
     "output_type": "stream",
     "text": [
      "[6.09969786 9.94996673 9.04251271]\n"
     ]
    }
   ],
   "source": [
    "numero_aleatorio = rng.random(3) * 10\n",
    "print(numero_aleatorio)"
   ]
  },
  {
   "cell_type": "markdown",
   "metadata": {
    "id": "J4snhyVNqx4Q"
   },
   "source": [
    " Vamos criar um cenário onde esses dados aleatórios podem ser úteis para uma análise de vendas.\n",
    "\n",
    "Suponha que você seja um analista de vendas em uma empresa e queira entender melhor o desempenho das vendas de um produto específico. No entanto, você não tem acesso aos dados reais de vendas, então você decide gerar alguns dados de vendas aleatórios para realizar sua análise."
   ]
  },
  {
   "cell_type": "code",
   "execution_count": null,
   "metadata": {
    "id": "pa8UvoZJqx4Q",
    "outputId": "704c10b2-d278-446f-e592-9e5ace8eee89"
   },
   "outputs": [
    {
     "name": "stdout",
     "output_type": "stream",
     "text": [
      "[ 63 166 148 115 114 178  62 154  80  64 128 196 160 164 157 167 126  69\n",
      " 175 117 125 105  77 189 167 146 110 173 131 116]\n"
     ]
    }
   ],
   "source": [
    "# Gere dados de vendas falsos para 30 dias\n",
    "# Vamos supor que as vendas de um produto podem variar de 50 a 200 por dia\n",
    "# Pode definir uma seed para garantir a reprodutibilidade dos resultados\n",
    "rng = np.random.default_rng(seed=42)\n",
    "dados_vendas = rng.integers(low=50, high=200, size=30)\n",
    "print(dados_vendas)"
   ]
  },
  {
   "cell_type": "markdown",
   "metadata": {
    "id": "PMoBGzLJqx4Q"
   },
   "source": [
    "Agora, você pode usar esses dados para realizar várias análises. Por exemplo, você pode querer saber qual foi o dia com as vendas mais altas, as vendas mais baixas, ou a média de vendas durante o mês. Aqui está como você pode fazer isso:\n",
    "\n"
   ]
  },
  {
   "cell_type": "code",
   "execution_count": 13,
   "metadata": {
    "id": "o19wgc_Fq8M_"
   },
   "outputs": [
    {
     "name": "stdout",
     "output_type": "stream",
     "text": [
      "196\n"
     ]
    }
   ],
   "source": [
    "print(np.max(dados_vendas))"
   ]
  },
  {
   "cell_type": "code",
   "execution_count": 15,
   "metadata": {},
   "outputs": [
    {
     "name": "stdout",
     "output_type": "stream",
     "text": [
      "12\n"
     ]
    }
   ],
   "source": [
    "print(np.argmax(dados_vendas) + 1)"
   ]
  },
  {
   "cell_type": "code",
   "execution_count": 18,
   "metadata": {},
   "outputs": [
    {
     "name": "stdout",
     "output_type": "stream",
     "text": [
      "Dia com as vendas mais altas: 12\n",
      "Dia com as vendas mais baixas: 7\n"
     ]
    }
   ],
   "source": [
    "# Dia com as vendas mais altas\n",
    "print(f\"Dia com as vendas mais altas: {np.argmax(dados_vendas) + 1}\")\n",
    "\n",
    "# Dia com as vendas mais baixas\n",
    "print(f\"Dia com as vendas mais baixas: {np.argmin(dados_vendas) + 1}\")"
   ]
  },
  {
   "cell_type": "code",
   "execution_count": 19,
   "metadata": {},
   "outputs": [
    {
     "name": "stdout",
     "output_type": "stream",
     "text": [
      "A média de vends durante o mês foi de 131.40 vendas por dia\n"
     ]
    }
   ],
   "source": [
    "# Média de vendas durante o mês\n",
    "media_vendas = np.mean(dados_vendas)\n",
    "print(f\"A média de vends durante o mês foi de {media_vendas:.2f} vendas por dia\")"
   ]
  },
  {
   "cell_type": "code",
   "execution_count": 20,
   "metadata": {},
   "outputs": [
    {
     "name": "stdout",
     "output_type": "stream",
     "text": [
      "129.5\n"
     ]
    }
   ],
   "source": [
    "print(np.median(dados_vendas))"
   ]
  },
  {
   "cell_type": "code",
   "execution_count": null,
   "metadata": {},
   "outputs": [
    {
     "name": "stdout",
     "output_type": "stream",
     "text": [
      "129.5\n"
     ]
    }
   ],
   "source": [
    "print(np.percentile(dados_vendas, 50))"
   ]
  },
  {
   "cell_type": "code",
   "execution_count": 22,
   "metadata": {},
   "outputs": [
    {
     "name": "stdout",
     "output_type": "stream",
     "text": [
      "39.305300745149715\n"
     ]
    }
   ],
   "source": [
    "print(np.std(dados_vendas))"
   ]
  },
  {
   "cell_type": "code",
   "execution_count": 23,
   "metadata": {},
   "outputs": [
    {
     "name": "stdout",
     "output_type": "stream",
     "text": [
      "1544.9066666666665\n"
     ]
    }
   ],
   "source": [
    "print(np.var(dados_vendas))"
   ]
  },
  {
   "cell_type": "markdown",
   "metadata": {
    "id": "jlm7p2F-qx4T"
   },
   "source": [
    "Breve resumo e conceitos simplificados das funções estatísticas citadas:\n",
    "\n",
    "1. Mediana:\n",
    "A mediana é um valor que divide um conjunto de dados em duas partes iguais. Para encontrá-la, você deve organizar os dados em ordem crescente ou decrescente e escolher o valor do meio. Se houver um número ímpar de dados, a mediana será exatamente o valor central. Se houver um número par de dados, a mediana será a média dos dois valores do meio.\n",
    "\n",
    "2. Percentil:\n",
    "O percentil é uma medida estatística que indica a posição relativa de um dado dentro de um conjunto de dados. Ele informa a porcentagem de valores que estão abaixo desse dado. Por exemplo, o percentil 50 (também conhecido como mediana) divide os dados em duas partes iguais, com 50% dos valores abaixo dele e 50% acima.\n",
    "\n",
    "3. Desvio padrão:\n",
    "O desvio padrão é uma medida que indica o quão dispersos os valores de um conjunto de dados estão em relação à média. Ele mostra a variabilidade dos dados em relação ao valor médio. Um desvio padrão maior indica que os dados estão mais espalhados, enquanto um desvio padrão menor indica que os dados estão mais próximos da média.\n",
    "\n",
    "4. Variância:\n",
    "A variância é outra medida de dispersão que indica o quão distantes os valores de um conjunto de dados estão da média. Ela é calculada como a média dos quadrados das diferenças entre cada valor e a média. A variância fornece uma medida da dispersão total dos dados, independentemente de serem maiores ou menores que a média.\n",
    "\n",
    "Essas medidas são amplamente utilizadas na estatística para resumir e analisar conjuntos de dados. Elas fornecem informações valiosas sobre a distribuição, a variabilidade e a posição dos dados, permitindo uma compreensão mais completa dos mesmos."
   ]
  }
 ],
 "metadata": {
  "colab": {
   "provenance": []
  },
  "kernelspec": {
   "display_name": ".venv",
   "language": "python",
   "name": "python3"
  },
  "language_info": {
   "codemirror_mode": {
    "name": "ipython",
    "version": 3
   },
   "file_extension": ".py",
   "mimetype": "text/x-python",
   "name": "python",
   "nbconvert_exporter": "python",
   "pygments_lexer": "ipython3",
   "version": "3.13.2"
  }
 },
 "nbformat": 4,
 "nbformat_minor": 0
}
