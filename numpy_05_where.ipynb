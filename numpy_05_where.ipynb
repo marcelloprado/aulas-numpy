{
 "cells": [
  {
   "cell_type": "markdown",
   "metadata": {
    "id": "Cmhrkh5FrJkM"
   },
   "source": [
    "# Guia de Introdução ao NumPy\n",
    "\n",
    "NumPy, que significa Numerical Python, é uma biblioteca fundamental para a computação científica em Python. Ela fornece suporte para arrays e matrizes, além de funções matemáticas para operações com esses objetos. É, também, a base da biblioteca Pandas.\n",
    "\n"
   ]
  },
  {
   "cell_type": "markdown",
   "metadata": {
    "id": "9Z5zSA90rJkP"
   },
   "source": [
    "## Filtros e np.where()\n",
    "\n",
    "A função `np.where()` é muito útil para fazer uma seleção condicional de elementos de um array. Por exemplo, em uma empresa, você pode querer identificar quais funcionários têm salários acima da média.\n"
   ]
  },
  {
   "cell_type": "code",
   "execution_count": 1,
   "metadata": {
    "ExecuteTime": {
     "end_time": "2023-07-03T19:29:17.084820600Z",
     "start_time": "2023-07-03T19:29:16.980857600Z"
    },
    "id": "1ShS9vWhrJkP",
    "jupyter": {
     "outputs_hidden": false
    },
    "outputId": "16a61123-2572-47b9-94da-e60357f30921"
   },
   "outputs": [
    {
     "name": "stdout",
     "output_type": "stream",
     "text": [
      "3714.285714285714\n"
     ]
    }
   ],
   "source": [
    "import numpy as np\n",
    "\n",
    "# Salários dos funcionários\n",
    "salarios = np.array([3000, 3500, 4000, 2000, 4500, 4000, 5000])\n",
    "\n",
    "# Calcular a média salarial\n",
    "media_salarial = np.mean(salarios)\n",
    "\n",
    "print(media_salarial)"
   ]
  },
  {
   "cell_type": "code",
   "execution_count": 2,
   "metadata": {
    "ExecuteTime": {
     "end_time": "2023-07-03T19:29:17.129154400Z",
     "start_time": "2023-07-03T19:29:17.086939600Z"
    },
    "id": "1WrI3kc8rJkR",
    "jupyter": {
     "outputs_hidden": false
    },
    "outputId": "d36806b1-e454-4b00-c80f-233d024f11c8"
   },
   "outputs": [
    {
     "name": "stdout",
     "output_type": "stream",
     "text": [
      "(array([2, 4, 5, 6]),)\n",
      "[4000 4500 4000 5000]\n"
     ]
    }
   ],
   "source": [
    "# Identificar funcionários com salários acima da média\n",
    "funcionarios_acima_media = np.where(salarios > media_salarial)\n",
    "print(funcionarios_acima_media)\n",
    "print(salarios[funcionarios_acima_media])"
   ]
  },
  {
   "cell_type": "code",
   "execution_count": 3,
   "metadata": {},
   "outputs": [
    {
     "name": "stdout",
     "output_type": "stream",
     "text": [
      "[4000 4500 4000 5000]\n"
     ]
    }
   ],
   "source": [
    "print(salarios[salarios > media_salarial])"
   ]
  },
  {
   "cell_type": "code",
   "execution_count": 4,
   "metadata": {},
   "outputs": [
    {
     "name": "stdout",
     "output_type": "stream",
     "text": [
      "['Abaixo da Média' 'Abaixo da Média' 'Acima da Média' 'Abaixo da Média'\n",
      " 'Acima da Média' 'Acima da Média' 'Acima da Média']\n"
     ]
    }
   ],
   "source": [
    "print(np.where(salarios > media_salarial, \"Acima da Média\", \"Abaixo da Média\"))"
   ]
  },
  {
   "cell_type": "code",
   "execution_count": 5,
   "metadata": {
    "ExecuteTime": {
     "end_time": "2023-07-03T19:29:17.208467Z",
     "start_time": "2023-07-03T19:29:17.162128100Z"
    },
    "id": "pQ7fvrSCrJkS",
    "jupyter": {
     "outputs_hidden": false
    },
    "outputId": "6640ddca-e1cd-4430-ba49-6fa4116a433a"
   },
   "outputs": [
    {
     "name": "stdout",
     "output_type": "stream",
     "text": [
      "[3000 3500 4000 2000 4500 4000 5000]\n",
      "[3300. 3850. 4000. 2200. 4500. 4000. 5000.]\n"
     ]
    }
   ],
   "source": [
    "# dar bônus de 10% para os funcionários com salários abaixo da média\n",
    "salarios_bonus = np.where(salarios < media_salarial, salarios * 1.1, salarios)\n",
    "print(salarios)\n",
    "print(salarios_bonus)"
   ]
  },
  {
   "cell_type": "code",
   "execution_count": 6,
   "metadata": {
    "ExecuteTime": {
     "end_time": "2023-07-03T19:29:17.209470100Z",
     "start_time": "2023-07-03T19:29:17.193976700Z"
    },
    "id": "gXxwStJprJkT",
    "jupyter": {
     "outputs_hidden": false
    },
    "outputId": "288691e0-39a2-4d4e-8533-c6f09aac6fe9"
   },
   "outputs": [
    {
     "name": "stdout",
     "output_type": "stream",
     "text": [
      "(array([0, 1, 2, 4, 5]),)\n"
     ]
    }
   ],
   "source": [
    "# filtrar os salários entre 3000 e 4500 com where\n",
    "print(np.where((salarios >= 3000) & (salarios <= 4500)))"
   ]
  },
  {
   "cell_type": "code",
   "execution_count": null,
   "metadata": {},
   "outputs": [],
   "source": []
  },
  {
   "cell_type": "code",
   "execution_count": 8,
   "metadata": {
    "ExecuteTime": {
     "end_time": "2023-07-03T19:29:17.284416500Z",
     "start_time": "2023-07-03T19:29:17.225063300Z"
    },
    "id": "u6z2k_5yrJkT",
    "jupyter": {
     "outputs_hidden": false
    },
    "outputId": "e7fa9021-838a-438b-e725-f56a1cdaa578"
   },
   "outputs": [
    {
     "name": "stdout",
     "output_type": "stream",
     "text": [
      "[3150. 3675. 4200. 2000. 4725. 4200. 5000.]\n"
     ]
    }
   ],
   "source": [
    "# filtrar os salários abaixo de 3000 ou acima de 4500 com where\n",
    "salarios_ajustados = np.where( (salarios >= 3000) & (salarios <= 4500), salarios * 1.05, salarios)\n",
    "print(salarios_ajustados)"
   ]
  },
  {
   "cell_type": "code",
   "execution_count": 9,
   "metadata": {
    "id": "wtEP4WscrJkU",
    "jupyter": {
     "outputs_hidden": false
    }
   },
   "outputs": [
    {
     "name": "stdout",
     "output_type": "stream",
     "text": [
      "(array([3, 4, 6]),)\n"
     ]
    }
   ],
   "source": [
    "print(np.where((salarios_ajustados < 3000) | (salarios_ajustados > 4500 )))"
   ]
  },
  {
   "cell_type": "code",
   "execution_count": 10,
   "metadata": {},
   "outputs": [
    {
     "name": "stdout",
     "output_type": "stream",
     "text": [
      "[3150.  3675.  4200.  2200.  5197.5 4200.  5500. ]\n"
     ]
    }
   ],
   "source": [
    "salario_segundo_ajuste = np.where((salarios_ajustados < 3000) | (salarios_ajustados > 4500 ), salarios_ajustados * 1.10, salarios_ajustados)\n",
    "print(salario_segundo_ajuste)"
   ]
  },
  {
   "cell_type": "code",
   "execution_count": null,
   "metadata": {},
   "outputs": [],
   "source": []
  }
 ],
 "metadata": {
  "colab": {
   "provenance": []
  },
  "kernelspec": {
   "display_name": ".venv",
   "language": "python",
   "name": "python3"
  },
  "language_info": {
   "codemirror_mode": {
    "name": "ipython",
    "version": 3
   },
   "file_extension": ".py",
   "mimetype": "text/x-python",
   "name": "python",
   "nbconvert_exporter": "python",
   "pygments_lexer": "ipython3",
   "version": "3.13.2"
  }
 },
 "nbformat": 4,
 "nbformat_minor": 0
}
